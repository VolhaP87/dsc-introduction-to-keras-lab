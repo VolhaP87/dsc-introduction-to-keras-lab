{
  "cells": [
    {
      "cell_type": "markdown",
      "metadata": {
        "id": "view-in-github",
        "colab_type": "text"
      },
      "source": [
        "<a href=\"https://colab.research.google.com/github/VolhaP87/dsc-introduction-to-keras-lab/blob/master/index_(2).ipynb\" target=\"_parent\"><img src=\"https://colab.research.google.com/assets/colab-badge.svg\" alt=\"Open In Colab\"/></a>"
      ]
    },
    {
      "cell_type": "markdown",
      "metadata": {
        "id": "UFNq7dZ5rzRR"
      },
      "source": [
        "# Keras - Lab\n",
        "\n",
        "## Introduction\n",
        "\n",
        "In this lab you'll once again build a neural network, but this time you will be using Keras to do a lot of the heavy lifting.\n",
        "\n",
        "\n",
        "## Objectives\n",
        "\n",
        "You will be able to:\n",
        "\n",
        "- Build a neural network using Keras \n",
        "- Evaluate performance of a neural network using Keras "
      ]
    },
    {
      "cell_type": "markdown",
      "metadata": {
        "id": "G9ks8vtZrzRV"
      },
      "source": [
        "## Required Packages\n",
        "\n",
        "We'll start by importing all of the required packages and classes."
      ]
    },
    {
      "cell_type": "code",
      "execution_count": 2,
      "metadata": {
        "id": "s7kg3F0KrzRW"
      },
      "outputs": [],
      "source": [
        "import matplotlib.pyplot as plt\n",
        "import pandas as pd\n",
        "import numpy as np\n",
        "import random\n",
        "from sklearn.model_selection import train_test_split\n",
        "from keras.utils.np_utils import to_categorical\n",
        "from sklearn import preprocessing\n",
        "from keras.preprocessing.text import Tokenizer\n",
        "from keras import models\n",
        "from keras import layers\n",
        "from keras import optimizers"
      ]
    },
    {
      "cell_type": "markdown",
      "metadata": {
        "id": "LAVSasLyrzRY"
      },
      "source": [
        "## Load the data\n",
        "\n",
        "In this lab you will be classifying bank complaints available in the `'Bank_complaints.csv'` file. "
      ]
    },
    {
      "cell_type": "code",
      "execution_count": 4,
      "metadata": {
        "colab": {
          "base_uri": "https://localhost:8080/",
          "height": 385
        },
        "id": "wUMoIA6drzRY",
        "outputId": "c7d040bc-f0bc-4278-bece-ceaf3d1e389b"
      },
      "outputs": [
        {
          "output_type": "stream",
          "name": "stdout",
          "text": [
            "<class 'pandas.core.frame.DataFrame'>\n",
            "RangeIndex: 60000 entries, 0 to 59999\n",
            "Data columns (total 2 columns):\n",
            " #   Column                        Non-Null Count  Dtype \n",
            "---  ------                        --------------  ----- \n",
            " 0   Product                       60000 non-null  object\n",
            " 1   Consumer complaint narrative  60000 non-null  object\n",
            "dtypes: object(2)\n",
            "memory usage: 937.6+ KB\n",
            "None\n"
          ]
        },
        {
          "output_type": "execute_result",
          "data": {
            "text/plain": [
              "        Product                       Consumer complaint narrative\n",
              "0  Student loan  In XX/XX/XXXX I filled out the Fedlaon applica...\n",
              "1  Student loan  I am being contacted by a debt collector for p...\n",
              "2  Student loan  I cosigned XXXX student loans at SallieMae for...\n",
              "3  Student loan  Navient has sytematically and illegally failed...\n",
              "4  Student loan  My wife became eligible for XXXX Loan Forgiven..."
            ],
            "text/html": [
              "\n",
              "  <div id=\"df-47c90e32-159b-4d9e-9b69-989d23b1d27f\">\n",
              "    <div class=\"colab-df-container\">\n",
              "      <div>\n",
              "<style scoped>\n",
              "    .dataframe tbody tr th:only-of-type {\n",
              "        vertical-align: middle;\n",
              "    }\n",
              "\n",
              "    .dataframe tbody tr th {\n",
              "        vertical-align: top;\n",
              "    }\n",
              "\n",
              "    .dataframe thead th {\n",
              "        text-align: right;\n",
              "    }\n",
              "</style>\n",
              "<table border=\"1\" class=\"dataframe\">\n",
              "  <thead>\n",
              "    <tr style=\"text-align: right;\">\n",
              "      <th></th>\n",
              "      <th>Product</th>\n",
              "      <th>Consumer complaint narrative</th>\n",
              "    </tr>\n",
              "  </thead>\n",
              "  <tbody>\n",
              "    <tr>\n",
              "      <th>0</th>\n",
              "      <td>Student loan</td>\n",
              "      <td>In XX/XX/XXXX I filled out the Fedlaon applica...</td>\n",
              "    </tr>\n",
              "    <tr>\n",
              "      <th>1</th>\n",
              "      <td>Student loan</td>\n",
              "      <td>I am being contacted by a debt collector for p...</td>\n",
              "    </tr>\n",
              "    <tr>\n",
              "      <th>2</th>\n",
              "      <td>Student loan</td>\n",
              "      <td>I cosigned XXXX student loans at SallieMae for...</td>\n",
              "    </tr>\n",
              "    <tr>\n",
              "      <th>3</th>\n",
              "      <td>Student loan</td>\n",
              "      <td>Navient has sytematically and illegally failed...</td>\n",
              "    </tr>\n",
              "    <tr>\n",
              "      <th>4</th>\n",
              "      <td>Student loan</td>\n",
              "      <td>My wife became eligible for XXXX Loan Forgiven...</td>\n",
              "    </tr>\n",
              "  </tbody>\n",
              "</table>\n",
              "</div>\n",
              "      <button class=\"colab-df-convert\" onclick=\"convertToInteractive('df-47c90e32-159b-4d9e-9b69-989d23b1d27f')\"\n",
              "              title=\"Convert this dataframe to an interactive table.\"\n",
              "              style=\"display:none;\">\n",
              "        \n",
              "  <svg xmlns=\"http://www.w3.org/2000/svg\" height=\"24px\"viewBox=\"0 0 24 24\"\n",
              "       width=\"24px\">\n",
              "    <path d=\"M0 0h24v24H0V0z\" fill=\"none\"/>\n",
              "    <path d=\"M18.56 5.44l.94 2.06.94-2.06 2.06-.94-2.06-.94-.94-2.06-.94 2.06-2.06.94zm-11 1L8.5 8.5l.94-2.06 2.06-.94-2.06-.94L8.5 2.5l-.94 2.06-2.06.94zm10 10l.94 2.06.94-2.06 2.06-.94-2.06-.94-.94-2.06-.94 2.06-2.06.94z\"/><path d=\"M17.41 7.96l-1.37-1.37c-.4-.4-.92-.59-1.43-.59-.52 0-1.04.2-1.43.59L10.3 9.45l-7.72 7.72c-.78.78-.78 2.05 0 2.83L4 21.41c.39.39.9.59 1.41.59.51 0 1.02-.2 1.41-.59l7.78-7.78 2.81-2.81c.8-.78.8-2.07 0-2.86zM5.41 20L4 18.59l7.72-7.72 1.47 1.35L5.41 20z\"/>\n",
              "  </svg>\n",
              "      </button>\n",
              "      \n",
              "  <style>\n",
              "    .colab-df-container {\n",
              "      display:flex;\n",
              "      flex-wrap:wrap;\n",
              "      gap: 12px;\n",
              "    }\n",
              "\n",
              "    .colab-df-convert {\n",
              "      background-color: #E8F0FE;\n",
              "      border: none;\n",
              "      border-radius: 50%;\n",
              "      cursor: pointer;\n",
              "      display: none;\n",
              "      fill: #1967D2;\n",
              "      height: 32px;\n",
              "      padding: 0 0 0 0;\n",
              "      width: 32px;\n",
              "    }\n",
              "\n",
              "    .colab-df-convert:hover {\n",
              "      background-color: #E2EBFA;\n",
              "      box-shadow: 0px 1px 2px rgba(60, 64, 67, 0.3), 0px 1px 3px 1px rgba(60, 64, 67, 0.15);\n",
              "      fill: #174EA6;\n",
              "    }\n",
              "\n",
              "    [theme=dark] .colab-df-convert {\n",
              "      background-color: #3B4455;\n",
              "      fill: #D2E3FC;\n",
              "    }\n",
              "\n",
              "    [theme=dark] .colab-df-convert:hover {\n",
              "      background-color: #434B5C;\n",
              "      box-shadow: 0px 1px 3px 1px rgba(0, 0, 0, 0.15);\n",
              "      filter: drop-shadow(0px 1px 2px rgba(0, 0, 0, 0.3));\n",
              "      fill: #FFFFFF;\n",
              "    }\n",
              "  </style>\n",
              "\n",
              "      <script>\n",
              "        const buttonEl =\n",
              "          document.querySelector('#df-47c90e32-159b-4d9e-9b69-989d23b1d27f button.colab-df-convert');\n",
              "        buttonEl.style.display =\n",
              "          google.colab.kernel.accessAllowed ? 'block' : 'none';\n",
              "\n",
              "        async function convertToInteractive(key) {\n",
              "          const element = document.querySelector('#df-47c90e32-159b-4d9e-9b69-989d23b1d27f');\n",
              "          const dataTable =\n",
              "            await google.colab.kernel.invokeFunction('convertToInteractive',\n",
              "                                                     [key], {});\n",
              "          if (!dataTable) return;\n",
              "\n",
              "          const docLinkHtml = 'Like what you see? Visit the ' +\n",
              "            '<a target=\"_blank\" href=https://colab.research.google.com/notebooks/data_table.ipynb>data table notebook</a>'\n",
              "            + ' to learn more about interactive tables.';\n",
              "          element.innerHTML = '';\n",
              "          dataTable['output_type'] = 'display_data';\n",
              "          await google.colab.output.renderOutput(dataTable, element);\n",
              "          const docLink = document.createElement('div');\n",
              "          docLink.innerHTML = docLinkHtml;\n",
              "          element.appendChild(docLink);\n",
              "        }\n",
              "      </script>\n",
              "    </div>\n",
              "  </div>\n",
              "  "
            ]
          },
          "metadata": {},
          "execution_count": 4
        }
      ],
      "source": [
        "# Import data\n",
        "df = pd.read_csv('Bank_complaints.csv')\n",
        "\n",
        "# Inspect data\n",
        "print(df.info())\n",
        "df.head()"
      ]
    },
    {
      "cell_type": "markdown",
      "metadata": {
        "id": "8Zoo1YWOrzRZ"
      },
      "source": [
        "As mentioned earlier, your task is to categorize banking complaints into various predefined categories. Preview what these categories are and what percent of the complaints each accounts for. "
      ]
    },
    {
      "cell_type": "code",
      "execution_count": 5,
      "metadata": {
        "colab": {
          "base_uri": "https://localhost:8080/",
          "height": 0
        },
        "id": "Et4F7qq2rzRZ",
        "outputId": "8960b9b3-5ed4-4672-dd9d-ed512d4879ea"
      },
      "outputs": [
        {
          "output_type": "execute_result",
          "data": {
            "text/plain": [
              "Student loan                   0.190067\n",
              "Credit card                    0.159000\n",
              "Consumer Loan                  0.157900\n",
              "Mortgage                       0.138867\n",
              "Bank account or service        0.138483\n",
              "Credit reporting               0.114400\n",
              "Checking or savings account    0.101283\n",
              "Name: Product, dtype: float64"
            ]
          },
          "metadata": {},
          "execution_count": 5
        }
      ],
      "source": [
        "# Your code here\n",
        "df['Product'].value_counts(normalize=True)"
      ]
    },
    {
      "cell_type": "markdown",
      "metadata": {
        "id": "cLtS2rfCrzRa"
      },
      "source": [
        "## Preprocessing\n",
        "\n",
        "Before we build our neural network, we need to do several preprocessing steps. First, we will create word vector counts (a bag of words type representation) of our complaints text. Next, we will change the category labels to integers. Finally, we will perform our usual train-test split before building and training our neural network using Keras. With that, let's start munging our data! \n",
        "\n",
        "## One-hot encoding of the complaints\n",
        "\n",
        "Our first step again is to transform our textual data into a numerical representation. As we saw in some of our previous lessons on NLP, there are many ways to do this. Here, we'll use the `Tokenizer()` class from the `preprocessing.text` sub-module of the Keras package.   \n",
        "\n",
        "As with our previous work using NLTK, this will transform our text complaints into word vectors. (Note that the method of creating a vector is different from our previous work with NLTK; as you'll see, word order will be preserved as opposed to a bag of words representation). In the below code, we'll only keep the 2,000 most common words and use one-hot encoding. \n",
        "\n"
      ]
    },
    {
      "cell_type": "code",
      "execution_count": 7,
      "metadata": {
        "id": "vLwDg5UurzRb"
      },
      "outputs": [],
      "source": [
        "# As a quick preliminary, briefly review the docstring for keras.preprocessing.text.Tokenizer\n",
        "Tokenizer?"
      ]
    },
    {
      "cell_type": "code",
      "execution_count": 8,
      "metadata": {
        "colab": {
          "base_uri": "https://localhost:8080/",
          "height": 0
        },
        "id": "3YBXGyH-rzRc",
        "outputId": "3bbe725d-ea7b-45f2-8eb2-0c75dedc723b"
      },
      "outputs": [
        {
          "output_type": "stream",
          "name": "stdout",
          "text": [
            "sequences type: <class 'list'>\n",
            "one_hot_results type: <class 'numpy.ndarray'>\n",
            "Found 50109 unique tokens.\n",
            "Dimensions of our coded results: (60000, 2000)\n"
          ]
        }
      ],
      "source": [
        "# ⏰ This cell may take about thirty seconds to run\n",
        "\n",
        "# Raw text complaints\n",
        "complaints = df['Consumer complaint narrative'] \n",
        "\n",
        "# Initialize a tokenizer \n",
        "tokenizer = Tokenizer(num_words=2000) \n",
        "\n",
        "# Fit it to the complaints\n",
        "tokenizer.fit_on_texts(complaints) \n",
        "\n",
        "# Generate sequences\n",
        "sequences = tokenizer.texts_to_sequences(complaints) \n",
        "print('sequences type:', type(sequences))\n",
        "\n",
        "# Similar to sequences, but returns a numpy array\n",
        "one_hot_results= tokenizer.texts_to_matrix(complaints, mode='binary') \n",
        "print('one_hot_results type:', type(one_hot_results))\n",
        "\n",
        "# Useful if we wish to decode (more explanation below)\n",
        "word_index = tokenizer.word_index \n",
        "\n",
        "# Tokens are the number of unique words across the corpus\n",
        "print('Found %s unique tokens.' % len(word_index)) \n",
        "\n",
        "# Our coded data\n",
        "print('Dimensions of our coded results:', np.shape(one_hot_results)) "
      ]
    },
    {
      "cell_type": "markdown",
      "metadata": {
        "id": "fleABbeqrzRd"
      },
      "source": [
        "## Decoding Word Vectors \n",
        "\n",
        "As a note, you can also decode these vectorized representations of the reviews. The `word_index` variable, defined above, stores the mapping from the label number to the actual word. Somewhat tediously, we can turn this dictionary inside out and map it back to our word vectors, giving us roughly the original complaint back. (As you'll see, the text won't be identical as we limited ourselves to top 2000 words.)\n",
        "\n",
        "## Python Review / Mini Challenge\n",
        "\n",
        "While a bit tangential to our main topic of interest, we need to reverse our current dictionary `word_index` which maps words from our corpus to integers. In decoding our `one_hot_results`, we will need to create a dictionary of these integers to the original words. Below, take the `word_index` dictionary object and change the orientation so that the values are keys and the keys values. In other words, you are transforming something of the form {A:1, B:2, C:3} to {1:A, 2:B, 3:C}. "
      ]
    },
    {
      "cell_type": "code",
      "execution_count": 9,
      "metadata": {
        "id": "cvAUIKh_rzRd"
      },
      "outputs": [],
      "source": [
        "# Your code here\n",
        "reverse_index = dict([(value, key) for (key, value) in word_index.items()])"
      ]
    },
    {
      "cell_type": "markdown",
      "metadata": {
        "id": "u7T2Hk4mrzRe"
      },
      "source": [
        "## Back to Decoding Our Word Vectors..."
      ]
    },
    {
      "cell_type": "code",
      "execution_count": 10,
      "metadata": {
        "colab": {
          "base_uri": "https://localhost:8080/",
          "height": 0
        },
        "id": "IpivNsEGrzRe",
        "outputId": "80d33aee-4dfe-4839-f396-6c41b8b81e89"
      },
      "outputs": [
        {
          "output_type": "stream",
          "name": "stdout",
          "text": [
            "Original complaint text:\n",
            "I have already filed several complaints about AES/PHEAA. I was notified by a XXXX XXXX let @ XXXX, who pretended to be from your office, he said he was from CFPB. I found out this morning he is n't from your office, but is actually works at XXXX. \n",
            "\n",
            "This has wasted weeks of my time. They AES/PHEAA confirmed and admitted ( see attached transcript of XXXX, conversation at XXXX ( XXXX ) with XXXX that proves they verified the loans are not mine ) the student loans they had XXXX, and collected on, and reported negate credit reporting in my name are in fact, not mine. \n",
            "They conclued their investigation on XXXX admitting they made a mistake and have my name on soneone elses loans. I these XXXX loans total {$10000.00}, original amount. My XXXX loans I got was total {$3500.00}. We proved by providing AES/PHEAA, this with my original promissary notes I located recently, the XXXX of my college provided AES/PHEAA with their original shoeinf amounts of my XXXX loans which show different dates and amounts, the dates and amounts are not even close to matching these loans they have in my name, The original lender, XXXX XXXX Bank notifying AES/PHEAA, they never issued me a student loan, and original Loan Guarantor, XXXX, notifying AES/PHEAA, they never were guarantor of my loans. \n",
            "\n",
            "XXXX straight forward. But today, this person, XXXX XXXX, told me they know these loans are not mine, and they refuse to remove my name off these XXXX loan 's and correct their mistake, essentially forcing me to pay these loans off, bucause in XXXX they sold the loans to XXXX loans. \n",
            "\n",
            "This is absurd, first protruding to be this office, and then refusing to correct their mistake. \n",
            "\n",
            "Please for the love of XXXX will soneone from your office call me at XXXX, today. I am a XXXX vet and they are knowingly discriminating against me. \n",
            "Pretending to be you.\n",
            "\n",
            "\n",
            "\n",
            "Decoded review from Tokenizer:\n",
            "i have already filed several complaints about aes i was notified by a xxxx xxxx let xxxx who to be from your office he said he was from cfpb i found out this morning he is n't from your office but is actually works at xxxx this has weeks of my time they aes confirmed and admitted see attached of xxxx conversation at xxxx xxxx with xxxx that they verified the loans are not mine the student loans they had xxxx and on and reported credit reporting in my name are in fact not mine they their investigation on xxxx they made a mistake and have my name on loans i these xxxx loans total 10000 00 original amount my xxxx loans i got was total 00 we by providing aes this with my original notes i located recently the xxxx of my college provided aes with their original amounts of my xxxx loans which show different dates and amounts the dates and amounts are not even close to these loans they have in my name the original lender xxxx xxxx bank notifying aes they never issued me a student loan and original loan xxxx notifying aes they never were of my loans xxxx forward but today this person xxxx xxxx told me they know these loans are not mine and they refuse to remove my name off these xxxx loan 's and correct their mistake essentially me to pay these loans off in xxxx they sold the loans to xxxx loans this is first to be this office and then refusing to correct their mistake please for the of xxxx will from your office call me at xxxx today i am a xxxx and they are against me to be you\n"
          ]
        }
      ],
      "source": [
        "comment_idx_to_preview = 19\n",
        "print('Original complaint text:')\n",
        "print(complaints[comment_idx_to_preview])\n",
        "print('\\n\\n')\n",
        "\n",
        "# The reverse_index cell block above must be complete in order for this cell block to successively execute \n",
        "decoded_review = ' '.join([reverse_index.get(i) for i in sequences[comment_idx_to_preview]])\n",
        "print('Decoded review from Tokenizer:')\n",
        "print(decoded_review)"
      ]
    },
    {
      "cell_type": "markdown",
      "metadata": {
        "id": "xhPY6qoVrzRe"
      },
      "source": [
        "## Convert the Products to Numerical Categories\n",
        "\n",
        "On to step two of our preprocessing: converting our descriptive categories into integers."
      ]
    },
    {
      "cell_type": "code",
      "execution_count": 11,
      "metadata": {
        "colab": {
          "base_uri": "https://localhost:8080/",
          "height": 0
        },
        "id": "2Y5Xj5aGrzRe",
        "outputId": "b18a7b97-92fb-4203-953e-67d315267c5d"
      },
      "outputs": [
        {
          "output_type": "stream",
          "name": "stdout",
          "text": [
            "Original class labels:\n",
            "['Bank account or service', 'Checking or savings account', 'Consumer Loan', 'Credit card', 'Credit reporting', 'Mortgage', 'Student loan']\n",
            "\n",
            "\n",
            "New product labels:\n",
            "[6 6 6 ... 4 4 4]\n",
            "\n",
            "\n",
            "One hot labels; 7 binary columns, one for each of the categories.\n",
            "[[0. 0. 0. ... 0. 0. 1.]\n",
            " [0. 0. 0. ... 0. 0. 1.]\n",
            " [0. 0. 0. ... 0. 0. 1.]\n",
            " ...\n",
            " [0. 0. 0. ... 1. 0. 0.]\n",
            " [0. 0. 0. ... 1. 0. 0.]\n",
            " [0. 0. 0. ... 1. 0. 0.]]\n",
            "\n",
            "\n",
            "One hot labels shape:\n",
            "(60000, 7)\n"
          ]
        }
      ],
      "source": [
        "product = df['Product']\n",
        "\n",
        "# Initialize\n",
        "le = preprocessing.LabelEncoder() \n",
        "le.fit(product)\n",
        "print('Original class labels:')\n",
        "print(list(le.classes_))\n",
        "print('\\n')\n",
        "product_cat = le.transform(product)  \n",
        "\n",
        "# If you wish to retrieve the original descriptive labels post production\n",
        "# list(le.inverse_transform([0, 1, 3, 3, 0, 6, 4])) \n",
        "\n",
        "print('New product labels:')\n",
        "print(product_cat)\n",
        "print('\\n')\n",
        "\n",
        "# Each row will be all zeros except for the category for that observation \n",
        "print('One hot labels; 7 binary columns, one for each of the categories.') \n",
        "product_onehot = to_categorical(product_cat)\n",
        "print(product_onehot)\n",
        "print('\\n')\n",
        "\n",
        "print('One hot labels shape:')\n",
        "print(np.shape(product_onehot))"
      ]
    },
    {
      "cell_type": "markdown",
      "metadata": {
        "id": "hONUMOExrzRf"
      },
      "source": [
        "## Train-test split\n",
        "\n",
        "Now for our final preprocessing step: the usual train-test split. "
      ]
    },
    {
      "cell_type": "code",
      "execution_count": 12,
      "metadata": {
        "colab": {
          "base_uri": "https://localhost:8080/",
          "height": 0
        },
        "id": "Y6rvWw09rzRf",
        "outputId": "1146fd56-91df-4785-9df2-3563f8aaf772"
      },
      "outputs": [
        {
          "output_type": "stream",
          "name": "stdout",
          "text": [
            "Test label shape: (1500, 7)\n",
            "Train label shape: (58500, 7)\n",
            "Test shape: (1500, 2000)\n",
            "Train shape: (58500, 2000)\n"
          ]
        }
      ],
      "source": [
        "random.seed(123)\n",
        "test_index = random.sample(range(1,10000), 1500)\n",
        "\n",
        "test = one_hot_results[test_index]\n",
        "train = np.delete(one_hot_results, test_index, 0)\n",
        "\n",
        "label_test = product_onehot[test_index]\n",
        "label_train = np.delete(product_onehot, test_index, 0)\n",
        "\n",
        "print('Test label shape:', np.shape(label_test))\n",
        "print('Train label shape:', np.shape(label_train))\n",
        "print('Test shape:', np.shape(test))\n",
        "print('Train shape:', np.shape(train))"
      ]
    },
    {
      "cell_type": "markdown",
      "metadata": {
        "id": "56uyfRPPrzRf"
      },
      "source": [
        "## Building the network\n",
        "\n",
        "Let's build a fully connected (Dense) layer network with relu activation in Keras. You can do this using: `Dense(16, activation='relu')`. \n",
        "\n",
        "In this example, use two hidden layers with 50 units in the first layer and 25 in the second, both with a `'relu'` activation function. Because we are dealing with a multiclass problem (classifying the complaints into 7 categories), we use a use a `'softmax'` classifier in order to output 7 class probabilities per case.  "
      ]
    },
    {
      "cell_type": "code",
      "execution_count": 13,
      "metadata": {
        "id": "0ZimBCE_rzRg"
      },
      "outputs": [],
      "source": [
        "# Initialize a sequential model\n",
        "model = models.Sequential()\n",
        "\n",
        "# Two layers with relu activation\n",
        "model.add(layers.Dense(50, activation='relu', input_shape=(2000,)))\n",
        "model.add(layers.Dense(25, activation='relu'))\n",
        "\n",
        "# One layer with softmax activation \n",
        "model.add(layers.Dense(7, activation='softmax'))"
      ]
    },
    {
      "cell_type": "markdown",
      "metadata": {
        "id": "i91ACSxBrzRg"
      },
      "source": [
        "## Compiling the model\n",
        "\n",
        "Now, compile the model! This time, use `'categorical_crossentropy'` as the loss function and stochastic gradient descent, `'SGD'` as the optimizer. As in the previous lesson, include the accuracy as a metric."
      ]
    },
    {
      "cell_type": "code",
      "execution_count": 14,
      "metadata": {
        "id": "urO7XOvgrzRg"
      },
      "outputs": [],
      "source": [
        "# Compile the model\n",
        "model.compile(optimizer='SGD', loss='categorical_crossentropy', metrics=['acc'])"
      ]
    },
    {
      "cell_type": "markdown",
      "metadata": {
        "id": "xCqvXI0XrzRg"
      },
      "source": [
        "## Training the model\n",
        "\n",
        "In the compiler, you'll be passing the optimizer (SGD = stochastic gradient descent), loss function, and metrics. Train the model for 120 epochs in mini-batches of 256 samples.\n",
        "\n",
        "_Note:_ ⏰ _Your code may take about one to two minutes to run._"
      ]
    },
    {
      "cell_type": "code",
      "execution_count": 15,
      "metadata": {
        "colab": {
          "base_uri": "https://localhost:8080/",
          "height": 0
        },
        "id": "n6DM5Lk_rzRh",
        "outputId": "c1f362f8-bdd1-41ba-e6d9-959a0460db46"
      },
      "outputs": [
        {
          "output_type": "stream",
          "name": "stdout",
          "text": [
            "Epoch 1/120\n",
            "229/229 [==============================] - 3s 10ms/step - loss: 1.8670 - acc: 0.2434\n",
            "Epoch 2/120\n",
            "229/229 [==============================] - 2s 10ms/step - loss: 1.5638 - acc: 0.4710\n",
            "Epoch 3/120\n",
            "229/229 [==============================] - 2s 9ms/step - loss: 1.2053 - acc: 0.6206\n",
            "Epoch 4/120\n",
            "229/229 [==============================] - 2s 9ms/step - loss: 0.9680 - acc: 0.6846\n",
            "Epoch 5/120\n",
            "229/229 [==============================] - 2s 9ms/step - loss: 0.8318 - acc: 0.7158\n",
            "Epoch 6/120\n",
            "229/229 [==============================] - 2s 10ms/step - loss: 0.7514 - acc: 0.7345\n",
            "Epoch 7/120\n",
            "229/229 [==============================] - 2s 10ms/step - loss: 0.7003 - acc: 0.7487\n",
            "Epoch 8/120\n",
            "229/229 [==============================] - 2s 9ms/step - loss: 0.6646 - acc: 0.7596\n",
            "Epoch 9/120\n",
            "229/229 [==============================] - 3s 11ms/step - loss: 0.6383 - acc: 0.7684\n",
            "Epoch 10/120\n",
            "229/229 [==============================] - 2s 9ms/step - loss: 0.6176 - acc: 0.7758\n",
            "Epoch 11/120\n",
            "229/229 [==============================] - 2s 10ms/step - loss: 0.6003 - acc: 0.7821\n",
            "Epoch 12/120\n",
            "229/229 [==============================] - 2s 9ms/step - loss: 0.5858 - acc: 0.7875\n",
            "Epoch 13/120\n",
            "229/229 [==============================] - 2s 10ms/step - loss: 0.5730 - acc: 0.7932\n",
            "Epoch 14/120\n",
            "229/229 [==============================] - 2s 9ms/step - loss: 0.5621 - acc: 0.7967\n",
            "Epoch 15/120\n",
            "229/229 [==============================] - 2s 10ms/step - loss: 0.5518 - acc: 0.8015\n",
            "Epoch 16/120\n",
            "229/229 [==============================] - 2s 9ms/step - loss: 0.5426 - acc: 0.8041\n",
            "Epoch 17/120\n",
            "229/229 [==============================] - 2s 10ms/step - loss: 0.5343 - acc: 0.8069\n",
            "Epoch 18/120\n",
            "229/229 [==============================] - 2s 10ms/step - loss: 0.5267 - acc: 0.8101\n",
            "Epoch 19/120\n",
            "229/229 [==============================] - 2s 10ms/step - loss: 0.5195 - acc: 0.8128\n",
            "Epoch 20/120\n",
            "229/229 [==============================] - 2s 10ms/step - loss: 0.5128 - acc: 0.8153\n",
            "Epoch 21/120\n",
            "229/229 [==============================] - 2s 10ms/step - loss: 0.5064 - acc: 0.8182\n",
            "Epoch 22/120\n",
            "229/229 [==============================] - 3s 11ms/step - loss: 0.5006 - acc: 0.8204\n",
            "Epoch 23/120\n",
            "229/229 [==============================] - 3s 12ms/step - loss: 0.4953 - acc: 0.8219\n",
            "Epoch 24/120\n",
            "229/229 [==============================] - 3s 12ms/step - loss: 0.4901 - acc: 0.8239\n",
            "Epoch 25/120\n",
            "229/229 [==============================] - 2s 10ms/step - loss: 0.4852 - acc: 0.8263\n",
            "Epoch 26/120\n",
            "229/229 [==============================] - 2s 7ms/step - loss: 0.4805 - acc: 0.8281\n",
            "Epoch 27/120\n",
            "229/229 [==============================] - 2s 7ms/step - loss: 0.4761 - acc: 0.8299\n",
            "Epoch 28/120\n",
            "229/229 [==============================] - 2s 7ms/step - loss: 0.4723 - acc: 0.8315\n",
            "Epoch 29/120\n",
            "229/229 [==============================] - 2s 7ms/step - loss: 0.4680 - acc: 0.8328\n",
            "Epoch 30/120\n",
            "229/229 [==============================] - 2s 7ms/step - loss: 0.4641 - acc: 0.8340\n",
            "Epoch 31/120\n",
            "229/229 [==============================] - 2s 7ms/step - loss: 0.4606 - acc: 0.8363\n",
            "Epoch 32/120\n",
            "229/229 [==============================] - 2s 7ms/step - loss: 0.4572 - acc: 0.8368\n",
            "Epoch 33/120\n",
            "229/229 [==============================] - 2s 7ms/step - loss: 0.4538 - acc: 0.8389\n",
            "Epoch 34/120\n",
            "229/229 [==============================] - 2s 7ms/step - loss: 0.4505 - acc: 0.8398\n",
            "Epoch 35/120\n",
            "229/229 [==============================] - 2s 7ms/step - loss: 0.4475 - acc: 0.8407\n",
            "Epoch 36/120\n",
            "229/229 [==============================] - 2s 7ms/step - loss: 0.4444 - acc: 0.8422\n",
            "Epoch 37/120\n",
            "229/229 [==============================] - 2s 7ms/step - loss: 0.4414 - acc: 0.8431\n",
            "Epoch 38/120\n",
            "229/229 [==============================] - 2s 7ms/step - loss: 0.4389 - acc: 0.8448\n",
            "Epoch 39/120\n",
            "229/229 [==============================] - 2s 7ms/step - loss: 0.4362 - acc: 0.8453\n",
            "Epoch 40/120\n",
            "229/229 [==============================] - 2s 7ms/step - loss: 0.4332 - acc: 0.8466\n",
            "Epoch 41/120\n",
            "229/229 [==============================] - 2s 7ms/step - loss: 0.4308 - acc: 0.8479\n",
            "Epoch 42/120\n",
            "229/229 [==============================] - 2s 7ms/step - loss: 0.4286 - acc: 0.8482\n",
            "Epoch 43/120\n",
            "229/229 [==============================] - 2s 7ms/step - loss: 0.4263 - acc: 0.8501\n",
            "Epoch 44/120\n",
            "229/229 [==============================] - 2s 7ms/step - loss: 0.4241 - acc: 0.8501\n",
            "Epoch 45/120\n",
            "229/229 [==============================] - 2s 7ms/step - loss: 0.4217 - acc: 0.8504\n",
            "Epoch 46/120\n",
            "229/229 [==============================] - 2s 7ms/step - loss: 0.4198 - acc: 0.8520\n",
            "Epoch 47/120\n",
            "229/229 [==============================] - 2s 10ms/step - loss: 0.4176 - acc: 0.8514\n",
            "Epoch 48/120\n",
            "229/229 [==============================] - 2s 8ms/step - loss: 0.4155 - acc: 0.8535\n",
            "Epoch 49/120\n",
            "229/229 [==============================] - 2s 7ms/step - loss: 0.4136 - acc: 0.8541\n",
            "Epoch 50/120\n",
            "229/229 [==============================] - 2s 7ms/step - loss: 0.4115 - acc: 0.8551\n",
            "Epoch 51/120\n",
            "229/229 [==============================] - 2s 7ms/step - loss: 0.4097 - acc: 0.8558\n",
            "Epoch 52/120\n",
            "229/229 [==============================] - 2s 7ms/step - loss: 0.4077 - acc: 0.8568\n",
            "Epoch 53/120\n",
            "229/229 [==============================] - 2s 7ms/step - loss: 0.4061 - acc: 0.8570\n",
            "Epoch 54/120\n",
            "229/229 [==============================] - 2s 7ms/step - loss: 0.4046 - acc: 0.8582\n",
            "Epoch 55/120\n",
            "229/229 [==============================] - 2s 7ms/step - loss: 0.4028 - acc: 0.8578\n",
            "Epoch 56/120\n",
            "229/229 [==============================] - 2s 7ms/step - loss: 0.4006 - acc: 0.8592\n",
            "Epoch 57/120\n",
            "229/229 [==============================] - 2s 7ms/step - loss: 0.3994 - acc: 0.8590\n",
            "Epoch 58/120\n",
            "229/229 [==============================] - 2s 7ms/step - loss: 0.3977 - acc: 0.8603\n",
            "Epoch 59/120\n",
            "229/229 [==============================] - 2s 7ms/step - loss: 0.3963 - acc: 0.8609\n",
            "Epoch 60/120\n",
            "229/229 [==============================] - 2s 7ms/step - loss: 0.3943 - acc: 0.8612\n",
            "Epoch 61/120\n",
            "229/229 [==============================] - 2s 7ms/step - loss: 0.3929 - acc: 0.8617\n",
            "Epoch 62/120\n",
            "229/229 [==============================] - 2s 7ms/step - loss: 0.3913 - acc: 0.8617\n",
            "Epoch 63/120\n",
            "229/229 [==============================] - 2s 7ms/step - loss: 0.3899 - acc: 0.8625\n",
            "Epoch 64/120\n",
            "229/229 [==============================] - 2s 7ms/step - loss: 0.3887 - acc: 0.8630\n",
            "Epoch 65/120\n",
            "229/229 [==============================] - 2s 7ms/step - loss: 0.3870 - acc: 0.8638\n",
            "Epoch 66/120\n",
            "229/229 [==============================] - 2s 7ms/step - loss: 0.3855 - acc: 0.8636\n",
            "Epoch 67/120\n",
            "229/229 [==============================] - 2s 7ms/step - loss: 0.3843 - acc: 0.8643\n",
            "Epoch 68/120\n",
            "229/229 [==============================] - 2s 7ms/step - loss: 0.3828 - acc: 0.8651\n",
            "Epoch 69/120\n",
            "229/229 [==============================] - 2s 9ms/step - loss: 0.3816 - acc: 0.8650\n",
            "Epoch 70/120\n",
            "229/229 [==============================] - 2s 7ms/step - loss: 0.3804 - acc: 0.8660\n",
            "Epoch 71/120\n",
            "229/229 [==============================] - 2s 7ms/step - loss: 0.3789 - acc: 0.8656\n",
            "Epoch 72/120\n",
            "229/229 [==============================] - 2s 7ms/step - loss: 0.3776 - acc: 0.8661\n",
            "Epoch 73/120\n",
            "229/229 [==============================] - 2s 7ms/step - loss: 0.3765 - acc: 0.8666\n",
            "Epoch 74/120\n",
            "229/229 [==============================] - 2s 7ms/step - loss: 0.3753 - acc: 0.8679\n",
            "Epoch 75/120\n",
            "229/229 [==============================] - 2s 7ms/step - loss: 0.3738 - acc: 0.8687\n",
            "Epoch 76/120\n",
            "229/229 [==============================] - 2s 7ms/step - loss: 0.3728 - acc: 0.8681\n",
            "Epoch 77/120\n",
            "229/229 [==============================] - 2s 7ms/step - loss: 0.3711 - acc: 0.8688\n",
            "Epoch 78/120\n",
            "229/229 [==============================] - 2s 7ms/step - loss: 0.3704 - acc: 0.8691\n",
            "Epoch 79/120\n",
            "229/229 [==============================] - 2s 7ms/step - loss: 0.3693 - acc: 0.8698\n",
            "Epoch 80/120\n",
            "229/229 [==============================] - 2s 7ms/step - loss: 0.3679 - acc: 0.8699\n",
            "Epoch 81/120\n",
            "229/229 [==============================] - 2s 7ms/step - loss: 0.3670 - acc: 0.8696\n",
            "Epoch 82/120\n",
            "229/229 [==============================] - 2s 7ms/step - loss: 0.3659 - acc: 0.8713\n",
            "Epoch 83/120\n",
            "229/229 [==============================] - 2s 7ms/step - loss: 0.3646 - acc: 0.8713\n",
            "Epoch 84/120\n",
            "229/229 [==============================] - 2s 7ms/step - loss: 0.3631 - acc: 0.8713\n",
            "Epoch 85/120\n",
            "229/229 [==============================] - 2s 7ms/step - loss: 0.3623 - acc: 0.8723\n",
            "Epoch 86/120\n",
            "229/229 [==============================] - 2s 7ms/step - loss: 0.3610 - acc: 0.8723\n",
            "Epoch 87/120\n",
            "229/229 [==============================] - 2s 7ms/step - loss: 0.3599 - acc: 0.8722\n",
            "Epoch 88/120\n",
            "229/229 [==============================] - 2s 7ms/step - loss: 0.3589 - acc: 0.8735\n",
            "Epoch 89/120\n",
            "229/229 [==============================] - 2s 7ms/step - loss: 0.3580 - acc: 0.8742\n",
            "Epoch 90/120\n",
            "229/229 [==============================] - 2s 7ms/step - loss: 0.3568 - acc: 0.8739\n",
            "Epoch 91/120\n",
            "229/229 [==============================] - 2s 7ms/step - loss: 0.3557 - acc: 0.8741\n",
            "Epoch 92/120\n",
            "229/229 [==============================] - 2s 7ms/step - loss: 0.3547 - acc: 0.8750\n",
            "Epoch 93/120\n",
            "229/229 [==============================] - 2s 7ms/step - loss: 0.3535 - acc: 0.8752\n",
            "Epoch 94/120\n",
            "229/229 [==============================] - 2s 7ms/step - loss: 0.3524 - acc: 0.8761\n",
            "Epoch 95/120\n",
            "229/229 [==============================] - 2s 7ms/step - loss: 0.3516 - acc: 0.8758\n",
            "Epoch 96/120\n",
            "229/229 [==============================] - 2s 7ms/step - loss: 0.3503 - acc: 0.8764\n",
            "Epoch 97/120\n",
            "229/229 [==============================] - 2s 7ms/step - loss: 0.3495 - acc: 0.8758\n",
            "Epoch 98/120\n",
            "229/229 [==============================] - 2s 7ms/step - loss: 0.3483 - acc: 0.8772\n",
            "Epoch 99/120\n",
            "229/229 [==============================] - 2s 7ms/step - loss: 0.3475 - acc: 0.8776\n",
            "Epoch 100/120\n",
            "229/229 [==============================] - 2s 7ms/step - loss: 0.3462 - acc: 0.8784\n",
            "Epoch 101/120\n",
            "229/229 [==============================] - 2s 7ms/step - loss: 0.3452 - acc: 0.8785\n",
            "Epoch 102/120\n",
            "229/229 [==============================] - 2s 7ms/step - loss: 0.3442 - acc: 0.8793\n",
            "Epoch 103/120\n",
            "229/229 [==============================] - 2s 7ms/step - loss: 0.3434 - acc: 0.8790\n",
            "Epoch 104/120\n",
            "229/229 [==============================] - 2s 7ms/step - loss: 0.3423 - acc: 0.8800\n",
            "Epoch 105/120\n",
            "229/229 [==============================] - 2s 7ms/step - loss: 0.3412 - acc: 0.8798\n",
            "Epoch 106/120\n",
            "229/229 [==============================] - 2s 7ms/step - loss: 0.3404 - acc: 0.8802\n",
            "Epoch 107/120\n",
            "229/229 [==============================] - 2s 7ms/step - loss: 0.3391 - acc: 0.8808\n",
            "Epoch 108/120\n",
            "229/229 [==============================] - 2s 7ms/step - loss: 0.3381 - acc: 0.8823\n",
            "Epoch 109/120\n",
            "229/229 [==============================] - 2s 7ms/step - loss: 0.3374 - acc: 0.8812\n",
            "Epoch 110/120\n",
            "229/229 [==============================] - 2s 7ms/step - loss: 0.3363 - acc: 0.8816\n",
            "Epoch 111/120\n",
            "229/229 [==============================] - 2s 7ms/step - loss: 0.3352 - acc: 0.8830\n",
            "Epoch 112/120\n",
            "229/229 [==============================] - 2s 7ms/step - loss: 0.3338 - acc: 0.8833\n",
            "Epoch 113/120\n",
            "229/229 [==============================] - 2s 7ms/step - loss: 0.3331 - acc: 0.8834\n",
            "Epoch 114/120\n",
            "229/229 [==============================] - 2s 7ms/step - loss: 0.3320 - acc: 0.8831\n",
            "Epoch 115/120\n",
            "229/229 [==============================] - 2s 7ms/step - loss: 0.3313 - acc: 0.8838\n",
            "Epoch 116/120\n",
            "229/229 [==============================] - 2s 7ms/step - loss: 0.3303 - acc: 0.8841\n",
            "Epoch 117/120\n",
            "229/229 [==============================] - 2s 7ms/step - loss: 0.3294 - acc: 0.8845\n",
            "Epoch 118/120\n",
            "229/229 [==============================] - 2s 7ms/step - loss: 0.3281 - acc: 0.8848\n",
            "Epoch 119/120\n",
            "229/229 [==============================] - 2s 7ms/step - loss: 0.3273 - acc: 0.8853\n",
            "Epoch 120/120\n",
            "229/229 [==============================] - 2s 7ms/step - loss: 0.3261 - acc: 0.8856\n"
          ]
        }
      ],
      "source": [
        "# Train the model \n",
        "history = model.fit(train, label_train, epochs=120, batch_size=256)"
      ]
    },
    {
      "cell_type": "markdown",
      "metadata": {
        "id": "SlDAT7H0rzRh"
      },
      "source": [
        "Recall that the dictionary `history` has two entries: the loss and the accuracy achieved using the training set."
      ]
    },
    {
      "cell_type": "code",
      "execution_count": 16,
      "metadata": {
        "colab": {
          "base_uri": "https://localhost:8080/",
          "height": 0
        },
        "id": "AHFIo59LrzRh",
        "outputId": "cd1ca984-5fa1-4c7b-e756-20eac47cbf88"
      },
      "outputs": [
        {
          "output_type": "execute_result",
          "data": {
            "text/plain": [
              "dict_keys(['loss', 'acc'])"
            ]
          },
          "metadata": {},
          "execution_count": 16
        }
      ],
      "source": [
        "history_dict = history.history\n",
        "history_dict.keys()"
      ]
    },
    {
      "cell_type": "markdown",
      "metadata": {
        "id": "2XYqmkuQrzRh"
      },
      "source": [
        "## Plot the results\n",
        "\n",
        "As you might expect, we'll use our `matplotlib` for graphing. Use the data stored in the `history_dict` above to plot the loss vs epochs and the accuracy vs epochs. "
      ]
    },
    {
      "cell_type": "code",
      "execution_count": 17,
      "metadata": {
        "colab": {
          "base_uri": "https://localhost:8080/",
          "height": 295
        },
        "id": "mAWB2IkUrzRh",
        "outputId": "6d49b69f-c14d-406e-90eb-277be2783fd9"
      },
      "outputs": [
        {
          "output_type": "display_data",
          "data": {
            "text/plain": [
              "<Figure size 432x288 with 1 Axes>"
            ],
            "image/png": "[encoded data removed]"
          },
          "metadata": {
            "needs_background": "light"
          }
        }
      ],
      "source": [
        "# Plot the loss vs the number of epoch\n",
        "history_dict = history.history\n",
        "loss_values = history_dict['loss']\n",
        "\n",
        "epochs = range(1, len(loss_values) + 1)\n",
        "plt.plot(epochs, loss_values, 'g', label='Training loss')\n",
        "\n",
        "plt.title('Training loss')\n",
        "plt.xlabel('Epochs')\n",
        "plt.ylabel('Loss')\n",
        "plt.legend()\n",
        "plt.show()"
      ]
    },
    {
      "cell_type": "code",
      "execution_count": 19,
      "metadata": {
        "colab": {
          "base_uri": "https://localhost:8080/",
          "height": 295
        },
        "id": "E8bslxi_rzRh",
        "outputId": "ff36ef6c-a4a7-499b-e090-2ed6f5a2f347"
      },
      "outputs": [
        {
          "output_type": "display_data",
          "data": {
            "text/plain": [
              "<Figure size 432x288 with 1 Axes>"
            ],
            "image/png": "[encoded data removed]"
          },
          "metadata": {
            "needs_background": "light"
          }
        }
      ],
      "source": [
        "# Plot the training accuracy vs the number of epochs\n",
        "acc_values = history_dict['acc'] \n",
        "\n",
        "plt.plot(epochs, acc_values, 'r', label='Training acc')\n",
        "plt.title('Training accuracy')\n",
        "plt.xlabel('Epochs')\n",
        "plt.ylabel('Accuracy')\n",
        "plt.legend()\n",
        "plt.show()"
      ]
    },
    {
      "cell_type": "markdown",
      "metadata": {
        "id": "cWkLiBtZrzRh"
      },
      "source": [
        "It seems like we could just keep on going and accuracy would go up!"
      ]
    },
    {
      "cell_type": "markdown",
      "metadata": {
        "id": "-ZfIUZixrzRh"
      },
      "source": [
        "## Make predictions\n",
        "\n",
        "Finally, it's time to make predictions. Use the relevant method discussed in the previous lesson to output (probability) predictions for the test set."
      ]
    },
    {
      "cell_type": "code",
      "execution_count": 20,
      "metadata": {
        "id": "5OmnoBxGrzRi"
      },
      "outputs": [],
      "source": [
        "# Output (probability) predictions for the test set \n",
        "y_hat_test = model.predict(test)"
      ]
    },
    {
      "cell_type": "markdown",
      "metadata": {
        "id": "11z0eIYdrzRi"
      },
      "source": [
        "## Evaluate Performance\n",
        "\n",
        "Finally, print the loss and accuracy for both the train and test sets of the final trained model."
      ]
    },
    {
      "cell_type": "code",
      "execution_count": 21,
      "metadata": {
        "colab": {
          "base_uri": "https://localhost:8080/",
          "height": 0
        },
        "id": "tyLbQw5HrzRi",
        "outputId": "abb93946-ecef-45d8-ef98-02eefece9c0d"
      },
      "outputs": [
        {
          "output_type": "stream",
          "name": "stdout",
          "text": [
            "1829/1829 [==============================] - 6s 3ms/step - loss: 0.3248 - acc: 0.8864\n"
          ]
        },
        {
          "output_type": "execute_result",
          "data": {
            "text/plain": [
              "[0.32475441694259644, 0.8864444494247437]"
            ]
          },
          "metadata": {},
          "execution_count": 21
        }
      ],
      "source": [
        "# Print the loss and accuracy for the training set \n",
        "results_train = model.evaluate(train, label_train)\n",
        "results_train"
      ]
    },
    {
      "cell_type": "code",
      "execution_count": 22,
      "metadata": {
        "colab": {
          "base_uri": "https://localhost:8080/",
          "height": 0
        },
        "id": "rkX9VX4frzRi",
        "outputId": "117ee2e4-d9ff-49fe-e1b1-3d77adfa5533"
      },
      "outputs": [
        {
          "output_type": "stream",
          "name": "stdout",
          "text": [
            "47/47 [==============================] - 0s 3ms/step - loss: 0.2521 - acc: 0.9267\n"
          ]
        },
        {
          "output_type": "execute_result",
          "data": {
            "text/plain": [
              "[0.2521134912967682, 0.9266666769981384]"
            ]
          },
          "metadata": {},
          "execution_count": 22
        }
      ],
      "source": [
        "# Print the loss and accuracy for the test set \n",
        "results_test = model.evaluate(test, label_test)\n",
        "results_test"
      ]
    },
    {
      "cell_type": "markdown",
      "metadata": {
        "id": "EtntDh5hrzRi"
      },
      "source": [
        "We can see that the training set results are really good, and the test set results seem to be even better. In general, this type of result will be rare, as train set results are usually at least a bit better than test set results.\n",
        "\n",
        "\n",
        "## Additional Resources \n",
        "\n",
        "- https://github.com/susanli2016/Machine-Learning-with-Python/blob/master/Consumer_complaints.ipynb \n",
        "- https://catalog.data.gov/dataset/consumer-complaint-database \n",
        "\n",
        "## Summary \n",
        "\n",
        "Congratulations! In this lab, you built a neural network thanks to the tools provided by Keras! In upcoming lessons and labs we'll continue to investigate further ideas regarding how to tune and refine these models for increased accuracy and performance."
      ]
    }
  ],
  "metadata": {
    "kernelspec": {
      "display_name": "Python 3",
      "language": "python",
      "name": "python3"
    },
    "language_info": {
      "codemirror_mode": {
        "name": "ipython",
        "version": 3
      },
      "file_extension": ".py",
      "mimetype": "text/x-python",
      "name": "python",
      "nbconvert_exporter": "python",
      "pygments_lexer": "ipython3",
      "version": "3.8.5"
    },
    "toc": {
      "base_numbering": 1,
      "nav_menu": {},
      "number_sections": true,
      "sideBar": true,
      "skip_h1_title": false,
      "title_cell": "Table of Contents",
      "title_sidebar": "Contents",
      "toc_cell": false,
      "toc_position": {},
      "toc_section_display": true,
      "toc_window_display": false
    },
    "colab": {
      "name": "index (2).ipynb",
      "provenance": [],
      "collapsed_sections": [],
      "include_colab_link": true
    }
  },
  "nbformat": 4,
  "nbformat_minor": 0
}